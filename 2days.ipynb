{
 "cells": [
  {
   "cell_type": "markdown",
   "metadata": {},
   "source": [
    "### Article Views 1"
   ]
  },
  {
   "cell_type": "code",
   "execution_count": 33,
   "metadata": {},
   "outputs": [
    {
     "name": "stdout",
     "output_type": "stream",
     "text": [
      "   article_id  author_id  viewer_id  view_date\n",
      "0           1          3          5 2019-08-01\n",
      "1           1          3          6 2019-08-02\n",
      "2           2          7          7 2019-08-01\n",
      "3           2          7          6 2019-08-02\n",
      "4           4          7          1 2019-07-22\n",
      "5           3          4          4 2019-07-21\n",
      "6           3          4          4 2019-07-21\n"
     ]
    }
   ],
   "source": [
    "import pandas as pd\n",
    "import pandasql as ps\n",
    "\n",
    "data = [[1, 3, 5, '2019-08-01'], [1, 3, 6, '2019-08-02'], [2, 7, 7, '2019-08-01'], [2, 7, 6, '2019-08-02'], [4, 7, 1, '2019-07-22'], [3, 4, 4, '2019-07-21'], [3, 4, 4, '2019-07-21']]\n",
    "Views = pd.DataFrame(data, columns=['article_id', 'author_id', 'viewer_id', 'view_date']).astype({'article_id':'Int64', 'author_id':'Int64', 'viewer_id':'Int64', 'view_date':'datetime64[ns]'})\n",
    "print(Views)"
   ]
  },
  {
   "cell_type": "code",
   "execution_count": 47,
   "metadata": {},
   "outputs": [
    {
     "name": "stdout",
     "output_type": "stream",
     "text": [
      "   id\n",
      "0   4\n",
      "1   7\n"
     ]
    }
   ],
   "source": [
    "print(pd.DataFrame(Views[Views['author_id'] == Views['viewer_id']]['author_id']).drop_duplicates().rename(columns={'author_id':'id'}).sort_values('id').reset_index(drop=True))"
   ]
  },
  {
   "cell_type": "code",
   "execution_count": 46,
   "metadata": {},
   "outputs": [
    {
     "name": "stdout",
     "output_type": "stream",
     "text": [
      "   id\n",
      "0   4\n",
      "1   7\n"
     ]
    }
   ],
   "source": [
    "query = '''\n",
    "select distinct(author_id) as id\n",
    "from Views\n",
    "where author_id = viewer_id\n",
    "order by id\n",
    "'''\n",
    "\n",
    "print(ps.sqldf(query, locals()))"
   ]
  },
  {
   "cell_type": "markdown",
   "metadata": {},
   "source": [
    "### Invalid Tweets"
   ]
  },
  {
   "cell_type": "code",
   "execution_count": 48,
   "metadata": {},
   "outputs": [
    {
     "name": "stdout",
     "output_type": "stream",
     "text": [
      "   tweet_id                           content\n",
      "0         1                    Vote for Biden\n",
      "1         2  Let us make America great again!\n"
     ]
    }
   ],
   "source": [
    "data = [[1, 'Vote for Biden'], [2, 'Let us make America great again!']]\n",
    "Tweets = pd.DataFrame(data, columns=['tweet_id', 'content']).astype({'tweet_id':'Int64', 'content':'object'})\n",
    "print(Tweets)"
   ]
  },
  {
   "cell_type": "code",
   "execution_count": 83,
   "metadata": {},
   "outputs": [
    {
     "data": {
      "text/html": [
       "<div>\n",
       "<style scoped>\n",
       "    .dataframe tbody tr th:only-of-type {\n",
       "        vertical-align: middle;\n",
       "    }\n",
       "\n",
       "    .dataframe tbody tr th {\n",
       "        vertical-align: top;\n",
       "    }\n",
       "\n",
       "    .dataframe thead th {\n",
       "        text-align: right;\n",
       "    }\n",
       "</style>\n",
       "<table border=\"1\" class=\"dataframe\">\n",
       "  <thead>\n",
       "    <tr style=\"text-align: right;\">\n",
       "      <th></th>\n",
       "      <th>tweet_id</th>\n",
       "    </tr>\n",
       "  </thead>\n",
       "  <tbody>\n",
       "    <tr>\n",
       "      <th>1</th>\n",
       "      <td>2</td>\n",
       "    </tr>\n",
       "  </tbody>\n",
       "</table>\n",
       "</div>"
      ],
      "text/plain": [
       "   tweet_id\n",
       "1         2"
      ]
     },
     "execution_count": 83,
     "metadata": {},
     "output_type": "execute_result"
    }
   ],
   "source": [
    "Tweets[Tweets['content'].str.len()>15][['tweet_id']]"
   ]
  },
  {
   "cell_type": "code",
   "execution_count": 86,
   "metadata": {},
   "outputs": [
    {
     "name": "stdout",
     "output_type": "stream",
     "text": [
      "   tweet_id\n",
      "0         2\n"
     ]
    }
   ],
   "source": [
    "query = '''\n",
    "select tweet_id\n",
    "from Tweets\n",
    "where length(content) > 15\n",
    "'''\n",
    "\n",
    "print(ps.sqldf(query, locals()))"
   ]
  },
  {
   "cell_type": "markdown",
   "metadata": {},
   "source": [
    "### Calculate Special Bonus"
   ]
  },
  {
   "cell_type": "code",
   "execution_count": 137,
   "metadata": {},
   "outputs": [
    {
     "name": "stdout",
     "output_type": "stream",
     "text": [
      "   employee_id     name  salary\n",
      "0            2     Meir    3000\n",
      "1            3  Michael    3800\n",
      "2            7  Addilyn    7400\n",
      "3            8     Juan    6100\n",
      "4            9   Kannon    7700\n"
     ]
    }
   ],
   "source": [
    "data = [[2, 'Meir', 3000], [3, 'Michael', 3800], [7, 'Addilyn', 7400], [8, 'Juan', 6100], [9, 'Kannon', 7700]]\n",
    "Employees = pd.DataFrame(data, columns=['employee_id', 'name', 'salary']).astype({'employee_id':'int64', 'name':'object', 'salary':'int64'})\n",
    "print(Employees)"
   ]
  },
  {
   "cell_type": "code",
   "execution_count": 88,
   "metadata": {},
   "outputs": [
    {
     "name": "stdout",
     "output_type": "stream",
     "text": [
      "<class 'pandas.core.frame.DataFrame'>\n",
      "RangeIndex: 5 entries, 0 to 4\n",
      "Data columns (total 3 columns):\n",
      " #   Column       Non-Null Count  Dtype \n",
      "---  ------       --------------  ----- \n",
      " 0   employee_id  5 non-null      int64 \n",
      " 1   name         5 non-null      object\n",
      " 2   salary       5 non-null      int64 \n",
      "dtypes: int64(2), object(1)\n",
      "memory usage: 252.0+ bytes\n"
     ]
    }
   ],
   "source": [
    "Employees.info()"
   ]
  },
  {
   "cell_type": "code",
   "execution_count": 145,
   "metadata": {},
   "outputs": [
    {
     "name": "stdout",
     "output_type": "stream",
     "text": [
      "   employee_id   bonus\n",
      "0            2     0.0\n",
      "1            3     0.0\n",
      "2            7  7400.0\n",
      "3            8     0.0\n",
      "4            9  7700.0\n"
     ]
    }
   ],
   "source": [
    "Employees.loc[(Employees['employee_id']%2 == 1)&(~Employees['name'].str.startswith('M')), 'bonus'] = Employees['salary']\n",
    "Employees['bonus'] = Employees['bonus'].fillna(0)\n",
    "print(Employees[['employee_id','bonus']])"
   ]
  },
  {
   "cell_type": "code",
   "execution_count": 143,
   "metadata": {},
   "outputs": [
    {
     "name": "stdout",
     "output_type": "stream",
     "text": [
      "   employee_id  bonus\n",
      "0            2      0\n",
      "1            3      0\n",
      "2            7   7400\n",
      "3            8      0\n",
      "4            9   7700\n"
     ]
    }
   ],
   "source": [
    "query = '''\n",
    "select employee_id, \n",
    "if(employee_id % 2 != 0 and left(name,1) <> 'M', salary, 0 ) as bonus\n",
    "from Employees\n",
    "order by employee_id\n",
    "'''\n",
    "\n",
    "other_query = '''\n",
    "SELECT employee_id, \n",
    "CASE WHEN employee_id % 2 != 0 AND SUBSTR(name, 1, 1) <> 'M' THEN salary ELSE 0 END AS bonus\n",
    "FROM Employees\n",
    "ORDER BY employee_id\n",
    "'''\n",
    "\n",
    "print(ps.sqldf(other_query , locals()))"
   ]
  }
 ],
 "metadata": {
  "kernelspec": {
   "display_name": "Python 3",
   "language": "python",
   "name": "python3"
  },
  "language_info": {
   "codemirror_mode": {
    "name": "ipython",
    "version": 3
   },
   "file_extension": ".py",
   "mimetype": "text/x-python",
   "name": "python",
   "nbconvert_exporter": "python",
   "pygments_lexer": "ipython3",
   "version": "3.11.4"
  },
  "orig_nbformat": 4
 },
 "nbformat": 4,
 "nbformat_minor": 2
}
