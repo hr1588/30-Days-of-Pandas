{
 "cells": [
  {
   "cell_type": "markdown",
   "metadata": {},
   "source": [
    "### 1번"
   ]
  },
  {
   "cell_type": "code",
   "execution_count": 2,
   "metadata": {},
   "outputs": [
    {
     "name": "stdout",
     "output_type": "stream",
     "text": [
      "          name continent     area  population           gdp\n",
      "0  Afghanistan      Asia   652230    25500100   20343000000\n",
      "1      Albania    Europe    28748     2831741   12960000000\n",
      "2      Algeria    Africa  2381741    37100000  188681000000\n",
      "3      Andorra    Europe      468       78115    3712000000\n",
      "4       Angola    Africa  1246700    20609294  100990000000\n"
     ]
    }
   ],
   "source": [
    "import pandas as pd\n",
    "\n",
    "data = [['Afghanistan', 'Asia', 652230, 25500100, 20343000000], ['Albania', 'Europe', 28748, 2831741, 12960000000], ['Algeria', 'Africa', 2381741, 37100000, 188681000000], ['Andorra', 'Europe', 468, 78115, 3712000000], ['Angola', 'Africa', 1246700, 20609294, 100990000000]]\n",
    "World = pd.DataFrame(data, columns=['name', 'continent', 'area', 'population', 'gdp']).astype({'name':'object', 'continent':'object', 'area':'Int64', 'population':'Int64', 'gdp':'Int64'})\n",
    "\n",
    "print(World)"
   ]
  },
  {
   "cell_type": "code",
   "execution_count": 27,
   "metadata": {},
   "outputs": [],
   "source": [
    "def result_print(answer):\n",
    "    return print(answer)"
   ]
  },
  {
   "cell_type": "code",
   "execution_count": 28,
   "metadata": {},
   "outputs": [
    {
     "name": "stdout",
     "output_type": "stream",
     "text": [
      "          name  population     area\n",
      "0  Afghanistan    25500100   652230\n",
      "1      Algeria    37100000  2381741\n"
     ]
    }
   ],
   "source": [
    "result_print(World[(World['area'] > 3000000) | (World['population'] > 25000000)][['name','population','area']].reset_index(drop=True))"
   ]
  },
  {
   "cell_type": "code",
   "execution_count": 29,
   "metadata": {},
   "outputs": [
    {
     "name": "stdout",
     "output_type": "stream",
     "text": [
      "          name  population     area\n",
      "0  Afghanistan    25500100   652230\n",
      "1      Algeria    37100000  2381741\n"
     ]
    }
   ],
   "source": [
    "import pandasql as ps\n",
    "\n",
    "query = \"\"\"\n",
    "select name, population, area\n",
    "from World\n",
    "where area > 3000000 or population > 25000000\n",
    "\"\"\"\n",
    "\n",
    "result_print(ps.sqldf(query, locals()))"
   ]
  },
  {
   "cell_type": "markdown",
   "metadata": {},
   "source": [
    "### 2번"
   ]
  },
  {
   "cell_type": "code",
   "execution_count": 30,
   "metadata": {},
   "outputs": [
    {
     "name": "stdout",
     "output_type": "stream",
     "text": [
      "   product_id low_fats recyclable\n",
      "0           0        Y          N\n",
      "1           1        Y          Y\n",
      "2           2        N          Y\n",
      "3           3        Y          Y\n",
      "4           4        N          N\n"
     ]
    }
   ],
   "source": [
    "data = [['0', 'Y', 'N'], ['1', 'Y', 'Y'], ['2', 'N', 'Y'], ['3', 'Y', 'Y'], ['4', 'N', 'N']]\n",
    "Products = pd.DataFrame(data, columns=['product_id', 'low_fats', 'recyclable']).astype({'product_id':'int64', 'low_fats':'category', 'recyclable':'category'})\n",
    "print(Products)"
   ]
  },
  {
   "cell_type": "code",
   "execution_count": 33,
   "metadata": {},
   "outputs": [
    {
     "name": "stdout",
     "output_type": "stream",
     "text": [
      "   product_id\n",
      "1           1\n",
      "3           3\n"
     ]
    }
   ],
   "source": [
    "result_print(Products[(Products['low_fats']=='Y')&(Products['recyclable']=='Y')][['product_id']])"
   ]
  },
  {
   "cell_type": "code",
   "execution_count": 36,
   "metadata": {},
   "outputs": [
    {
     "name": "stdout",
     "output_type": "stream",
     "text": [
      "   product_id\n",
      "0           1\n",
      "1           3\n"
     ]
    }
   ],
   "source": [
    "query = \"\"\"\n",
    "select product_id\n",
    "from Products\n",
    "where low_fats = 'Y' and recyclable = 'Y'\n",
    "\"\"\"\n",
    "\n",
    "result_print(ps.sqldf(query, locals()))"
   ]
  },
  {
   "cell_type": "markdown",
   "metadata": {},
   "source": [
    "### 3번"
   ]
  },
  {
   "cell_type": "code",
   "execution_count": 37,
   "metadata": {},
   "outputs": [
    {
     "name": "stdout",
     "output_type": "stream",
     "text": [
      "   id   name\n",
      "0   1    Joe\n",
      "1   2  Henry\n",
      "2   3    Sam\n",
      "3   4    Max\n",
      "   id  customerId\n",
      "0   1           3\n",
      "1   2           1\n"
     ]
    }
   ],
   "source": [
    "data = [[1, 'Joe'], [2, 'Henry'], [3, 'Sam'], [4, 'Max']]\n",
    "Customers = pd.DataFrame(data, columns=['id', 'name']).astype({'id':'Int64', 'name':'object'})\n",
    "data = [[1, 3], [2, 1]]\n",
    "Orders = pd.DataFrame(data, columns=['id', 'customerId']).astype({'id':'Int64', 'customerId':'Int64'})\n",
    "\n",
    "print(Customers)\n",
    "print(Orders)"
   ]
  },
  {
   "cell_type": "code",
   "execution_count": 69,
   "metadata": {},
   "outputs": [
    {
     "name": "stdout",
     "output_type": "stream",
     "text": [
      "  Customers\n",
      "0     Henry\n",
      "1       Max\n"
     ]
    }
   ],
   "source": [
    "df = pd.merge(Customers, Orders, left_on= 'id', right_on = 'customerId',how = 'left')\n",
    "new_df = df[df['customerId'].isnull()]['name'].reset_index(drop = True).to_frame()\n",
    "print(new_df.rename(columns={'name':'Customers'}))"
   ]
  },
  {
   "cell_type": "code",
   "execution_count": 55,
   "metadata": {},
   "outputs": [
    {
     "name": "stdout",
     "output_type": "stream",
     "text": [
      "  Customers\n",
      "0     Henry\n",
      "1       Max\n"
     ]
    }
   ],
   "source": [
    "query = \"\"\"\n",
    "select name as Customers\n",
    "from Customers \n",
    "left join Orders\n",
    "on Customers.id = Orders.customerId\n",
    "where customerId is null\n",
    "\"\"\"\n",
    "\n",
    "result_print(ps.sqldf(query, locals()))"
   ]
  }
 ],
 "metadata": {
  "kernelspec": {
   "display_name": "Python 3",
   "language": "python",
   "name": "python3"
  },
  "language_info": {
   "codemirror_mode": {
    "name": "ipython",
    "version": 3
   },
   "file_extension": ".py",
   "mimetype": "text/x-python",
   "name": "python",
   "nbconvert_exporter": "python",
   "pygments_lexer": "ipython3",
   "version": "3.11.4"
  },
  "orig_nbformat": 4
 },
 "nbformat": 4,
 "nbformat_minor": 2
}
