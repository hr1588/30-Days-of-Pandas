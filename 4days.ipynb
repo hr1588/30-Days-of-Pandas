{
 "cells": [
  {
   "cell_type": "markdown",
   "metadata": {},
   "source": [
    "### Nth Highest Salary"
   ]
  },
  {
   "cell_type": "code",
   "execution_count": 1,
   "metadata": {},
   "outputs": [],
   "source": [
    "import pandas as pd\n",
    "import pandasql as ps"
   ]
  },
  {
   "cell_type": "code",
   "execution_count": 2,
   "metadata": {},
   "outputs": [
    {
     "name": "stdout",
     "output_type": "stream",
     "text": [
      "   id  salary\n",
      "0   1     100\n",
      "1   2     200\n",
      "2   3     300\n"
     ]
    }
   ],
   "source": [
    "data = [[1,100],[2,200],[3,300]]\n",
    "Employee = pd.DataFrame(data, columns=('id','salary'))\n",
    "print(Employee)"
   ]
  },
  {
   "cell_type": "code",
   "execution_count": 3,
   "metadata": {},
   "outputs": [
    {
     "name": "stdout",
     "output_type": "stream",
     "text": [
      "   2nd_highest_salary\n",
      "0                 200\n"
     ]
    }
   ],
   "source": [
    "class SalaryAnalyzer:\n",
    "    def __init__(self, df):\n",
    "        self.df = df\n",
    "    \n",
    "    @staticmethod\n",
    "    def ordinal(n):\n",
    "        if 10 <= n % 100 <= 20:\n",
    "            suffix = 'th'\n",
    "        else:\n",
    "            suffix = {1: 'st', 2: 'nd', 3: 'rd'}.get(n % 10, 'th')\n",
    "        return f\"{n}{suffix}\"\n",
    "    \n",
    "    def nth_highest_salary(self, n):\n",
    "        column_name = f\"{self.ordinal(n)}_highest_salary\"\n",
    "        if n > len(self.df):\n",
    "            return pd.DataFrame({column_name : [None]})\n",
    "        else:\n",
    "            nth_salary = self.df['salary'].nlargest(n).iloc[-1]\n",
    "            return pd.DataFrame({column_name : [nth_salary]})\n",
    "        \n",
    "analyzer = SalaryAnalyzer(Employee)        \n",
    "print(analyzer.nth_highest_salary(2))"
   ]
  },
  {
   "cell_type": "code",
   "execution_count": 4,
   "metadata": {},
   "outputs": [
    {
     "name": "stdout",
     "output_type": "stream",
     "text": [
      "   nth_highest_salary\n",
      "0                 200\n"
     ]
    }
   ],
   "source": [
    "query = '''\n",
    "select salary as nth_highest_salary\n",
    "from(\n",
    "    select distinct salary\n",
    "    from Employee\n",
    "    union\n",
    "    select null\n",
    "    order by salary desc\n",
    "    limit 2\n",
    ") as subquery\n",
    "order by nth_highest_salary asc\n",
    "limit 1;\n",
    "'''\n",
    "\n",
    "print(ps.sqldf(query, locals()))"
   ]
  },
  {
   "cell_type": "markdown",
   "metadata": {},
   "source": [
    "### Second Highest Salary"
   ]
  },
  {
   "cell_type": "code",
   "execution_count": 35,
   "metadata": {},
   "outputs": [],
   "source": [
    "data = [[1, 100], [2, 200], [3, 300]]\n",
    "Employee = pd.DataFrame(data, columns=['id', 'salary']).astype({'id':'int64', 'salary':'int64'})"
   ]
  },
  {
   "cell_type": "code",
   "execution_count": 31,
   "metadata": {},
   "outputs": [],
   "source": [
    "def second_highest_salary(df, n):\n",
    "    if n > len(df):\n",
    "        return pd.DataFrame({second_highest_salary.__name__ : [None]})\n",
    "    else:\n",
    "        nth_salary = df['salary'].nlargest(n).iloc[-1]\n",
    "        return pd.DataFrame({second_highest_salary.__name__ : [nth_salary]})"
   ]
  },
  {
   "cell_type": "code",
   "execution_count": 32,
   "metadata": {},
   "outputs": [
    {
     "data": {
      "text/html": [
       "<div>\n",
       "<style scoped>\n",
       "    .dataframe tbody tr th:only-of-type {\n",
       "        vertical-align: middle;\n",
       "    }\n",
       "\n",
       "    .dataframe tbody tr th {\n",
       "        vertical-align: top;\n",
       "    }\n",
       "\n",
       "    .dataframe thead th {\n",
       "        text-align: right;\n",
       "    }\n",
       "</style>\n",
       "<table border=\"1\" class=\"dataframe\">\n",
       "  <thead>\n",
       "    <tr style=\"text-align: right;\">\n",
       "      <th></th>\n",
       "      <th>second_highest_salary</th>\n",
       "    </tr>\n",
       "  </thead>\n",
       "  <tbody>\n",
       "    <tr>\n",
       "      <th>0</th>\n",
       "      <td>200</td>\n",
       "    </tr>\n",
       "  </tbody>\n",
       "</table>\n",
       "</div>"
      ],
      "text/plain": [
       "   second_highest_salary\n",
       "0                    200"
      ]
     },
     "execution_count": 32,
     "metadata": {},
     "output_type": "execute_result"
    }
   ],
   "source": [
    "second_highest_salary(Employee,2)"
   ]
  },
  {
   "cell_type": "code",
   "execution_count": 38,
   "metadata": {},
   "outputs": [
    {
     "name": "stdout",
     "output_type": "stream",
     "text": [
      "   second_highest_salary\n",
      "0                    200\n"
     ]
    }
   ],
   "source": [
    "query = '''\n",
    "select salary as second_highest_salary\n",
    "from(\n",
    "    select distinct salary\n",
    "    from Employee\n",
    "    union\n",
    "    select null\n",
    "    order by salary desc\n",
    "    limit 2\n",
    ") as subquery\n",
    "order by second_highest_salary asc\n",
    "limit 1;\n",
    "'''\n",
    "print(ps.sqldf(query, locals()))"
   ]
  },
  {
   "cell_type": "markdown",
   "metadata": {},
   "source": [
    "### Department Highest Salary"
   ]
  },
  {
   "cell_type": "code",
   "execution_count": 46,
   "metadata": {},
   "outputs": [
    {
     "name": "stdout",
     "output_type": "stream",
     "text": [
      "   id   name  salary  departmentId\n",
      "0   1    Joe   70000             1\n",
      "1   2    Jim   90000             1\n",
      "2   3  Henry   80000             2\n",
      "3   4    Sam   60000             2\n",
      "4   5    Max   90000             1\n",
      "   id   name\n",
      "0   1     IT\n",
      "1   2  Sales\n"
     ]
    }
   ],
   "source": [
    "data = [[1, 'Joe', 70000, 1], [2, 'Jim', 90000, 1], [3, 'Henry', 80000, 2], [4, 'Sam', 60000, 2], [5, 'Max', 90000, 1]]\n",
    "Employee = pd.DataFrame(data, columns=['id', 'name', 'salary', 'departmentId']).astype({'id':'Int64', 'name':'object', 'salary':'Int64', 'departmentId':'Int64'})\n",
    "data = [[1, 'IT'], [2, 'Sales']]\n",
    "Department = pd.DataFrame(data, columns=['id', 'name']).astype({'id':'Int64', 'name':'object'})\n",
    "\n",
    "print(Employee)\n",
    "print(Department)"
   ]
  },
  {
   "cell_type": "code",
   "execution_count": 83,
   "metadata": {},
   "outputs": [
    {
     "name": "stdout",
     "output_type": "stream",
     "text": [
      "  name_department   name  salary\n",
      "0              IT    Jim   90000\n",
      "1              IT    Max   90000\n",
      "2           Sales  Henry   80000\n"
     ]
    }
   ],
   "source": [
    "merge_df = pd.merge(Employee, Department, left_on = 'departmentId', right_on = 'id', suffixes=('','_department'))\n",
    "max_salary = merge_df.groupby('departmentId')['salary'].max().reset_index()\n",
    "result = pd.merge(merge_df, max_salary, on = ['departmentId', 'salary'])\n",
    "print(result[['name_department','name','salary']])"
   ]
  },
  {
   "cell_type": "code",
   "execution_count": 87,
   "metadata": {},
   "outputs": [
    {
     "data": {
      "text/html": [
       "<div>\n",
       "<style scoped>\n",
       "    .dataframe tbody tr th:only-of-type {\n",
       "        vertical-align: middle;\n",
       "    }\n",
       "\n",
       "    .dataframe tbody tr th {\n",
       "        vertical-align: top;\n",
       "    }\n",
       "\n",
       "    .dataframe thead th {\n",
       "        text-align: right;\n",
       "    }\n",
       "</style>\n",
       "<table border=\"1\" class=\"dataframe\">\n",
       "  <thead>\n",
       "    <tr style=\"text-align: right;\">\n",
       "      <th></th>\n",
       "      <th>Department</th>\n",
       "      <th>name</th>\n",
       "      <th>salary</th>\n",
       "    </tr>\n",
       "  </thead>\n",
       "  <tbody>\n",
       "    <tr>\n",
       "      <th>0</th>\n",
       "      <td>IT</td>\n",
       "      <td>Jim</td>\n",
       "      <td>90000</td>\n",
       "    </tr>\n",
       "    <tr>\n",
       "      <th>1</th>\n",
       "      <td>Sales</td>\n",
       "      <td>Henry</td>\n",
       "      <td>80000</td>\n",
       "    </tr>\n",
       "    <tr>\n",
       "      <th>2</th>\n",
       "      <td>IT</td>\n",
       "      <td>Max</td>\n",
       "      <td>90000</td>\n",
       "    </tr>\n",
       "  </tbody>\n",
       "</table>\n",
       "</div>"
      ],
      "text/plain": [
       "  Department   name  salary\n",
       "0         IT    Jim   90000\n",
       "1      Sales  Henry   80000\n",
       "2         IT    Max   90000"
      ]
     },
     "execution_count": 87,
     "metadata": {},
     "output_type": "execute_result"
    }
   ],
   "source": [
    "query = '''\n",
    "select D.name as Department, E.name, salary\n",
    "from Department D\n",
    "inner join Employee E\n",
    "on D.id = E.departmentId\n",
    "where (E.departmentId, E.salary) in (\n",
    "    select \n",
    "    departmentID, max(salary) as salary\n",
    "    from Employee\n",
    "    group by departmentID\n",
    ")\n",
    "'''\n",
    "\n",
    "ps.sqldf(query, locals())"
   ]
  }
 ],
 "metadata": {
  "kernelspec": {
   "display_name": "Python 3",
   "language": "python",
   "name": "python3"
  },
  "language_info": {
   "codemirror_mode": {
    "name": "ipython",
    "version": 3
   },
   "file_extension": ".py",
   "mimetype": "text/x-python",
   "name": "python",
   "nbconvert_exporter": "python",
   "pygments_lexer": "ipython3",
   "version": "3.11.4"
  },
  "orig_nbformat": 4
 },
 "nbformat": 4,
 "nbformat_minor": 2
}
