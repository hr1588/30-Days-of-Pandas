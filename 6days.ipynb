{
 "cells": [
  {
   "cell_type": "markdown",
   "metadata": {},
   "source": [
    "### The Number of Rich Customers"
   ]
  },
  {
   "cell_type": "code",
   "execution_count": 2,
   "metadata": {},
   "outputs": [
    {
     "name": "stdout",
     "output_type": "stream",
     "text": [
      "   bill_id  customer_id  amount\n",
      "0        6            1     549\n",
      "1        8            1     834\n",
      "2        4            2     394\n",
      "3       11            3     657\n",
      "4       13            3     257\n"
     ]
    }
   ],
   "source": [
    "import pandas as pd\n",
    "import pandasql as ps\n",
    "\n",
    "data = [[6, 1, 549], [8, 1, 834], [4, 2, 394], [11, 3, 657], [13, 3, 257]]\n",
    "Store = pd.DataFrame(data, columns=['bill_id', 'customer_id', 'amount']).astype({'bill_id':'int64', 'customer_id':'int64', 'amount':'int64'})\n",
    "print(Store)"
   ]
  },
  {
   "cell_type": "code",
   "execution_count": 21,
   "metadata": {},
   "outputs": [
    {
     "name": "stdout",
     "output_type": "stream",
     "text": [
      "   rich_count\n",
      "0           2\n"
     ]
    }
   ],
   "source": [
    "result_df = Store.groupby('customer_id').max('amount')\n",
    "print(pd.DataFrame([result_df[result_df['amount']>500]['amount'].count()], columns=['rich_count']))"
   ]
  },
  {
   "cell_type": "code",
   "execution_count": 38,
   "metadata": {},
   "outputs": [
    {
     "data": {
      "text/html": [
       "<div>\n",
       "<style scoped>\n",
       "    .dataframe tbody tr th:only-of-type {\n",
       "        vertical-align: middle;\n",
       "    }\n",
       "\n",
       "    .dataframe tbody tr th {\n",
       "        vertical-align: top;\n",
       "    }\n",
       "\n",
       "    .dataframe thead th {\n",
       "        text-align: right;\n",
       "    }\n",
       "</style>\n",
       "<table border=\"1\" class=\"dataframe\">\n",
       "  <thead>\n",
       "    <tr style=\"text-align: right;\">\n",
       "      <th></th>\n",
       "      <th>rich_count</th>\n",
       "    </tr>\n",
       "  </thead>\n",
       "  <tbody>\n",
       "    <tr>\n",
       "      <th>0</th>\n",
       "      <td>2</td>\n",
       "    </tr>\n",
       "  </tbody>\n",
       "</table>\n",
       "</div>"
      ],
      "text/plain": [
       "   rich_count\n",
       "0           2"
      ]
     },
     "execution_count": 38,
     "metadata": {},
     "output_type": "execute_result"
    }
   ],
   "source": [
    "query = '''\n",
    "\n",
    "select count(*) as rich_count\n",
    "from (select max(amount) \n",
    "from Store\n",
    "group by customer_id\n",
    "having amount > 500)\n",
    "'''\n",
    "\n",
    "ps.sqldf(query,locals())"
   ]
  },
  {
   "cell_type": "markdown",
   "metadata": {},
   "source": [
    "### Immediate Food Delivery I"
   ]
  },
  {
   "cell_type": "code",
   "execution_count": 81,
   "metadata": {},
   "outputs": [
    {
     "name": "stdout",
     "output_type": "stream",
     "text": [
      "   delivery_id  customer_id order_date customer_pref_delivery_date\n",
      "0            1            1 2019-08-01                  2019-08-02\n",
      "1            2            5 2019-08-02                  2019-08-02\n",
      "2            3            1 2019-08-11                  2019-08-11\n",
      "3            4            3 2019-08-24                  2019-08-26\n",
      "4            5            4 2019-08-21                  2019-08-22\n",
      "5            6            2 2019-08-11                  2019-08-13\n"
     ]
    }
   ],
   "source": [
    "data = [[1, 1, '2019-08-01', '2019-08-02'], [2, 5, '2019-08-02', '2019-08-02'], [3, 1, '2019-08-11', '2019-08-11'], [4, 3, '2019-08-24', '2019-08-26'], [5, 4, '2019-08-21', '2019-08-22'], [6, 2, '2019-08-11', '2019-08-13']]\n",
    "Delivery = pd.DataFrame(data, columns=['delivery_id', 'customer_id', 'order_date', 'customer_pref_delivery_date']).astype({'delivery_id':'Int64', 'customer_id':'Int64', 'order_date':'datetime64[ns]', 'customer_pref_delivery_date':'datetime64[ns]'})\n",
    "print(Delivery)"
   ]
  },
  {
   "cell_type": "code",
   "execution_count": 79,
   "metadata": {},
   "outputs": [
    {
     "data": {
      "text/plain": [
       "33.33"
      ]
     },
     "execution_count": 79,
     "metadata": {},
     "output_type": "execute_result"
    }
   ],
   "source": [
    "round(len(Delivery[Delivery['customer_pref_delivery_date'] == Delivery['order_date']])/len(Delivery)*100,2)"
   ]
  },
  {
   "cell_type": "code",
   "execution_count": 118,
   "metadata": {},
   "outputs": [
    {
     "data": {
      "text/html": [
       "<div>\n",
       "<style scoped>\n",
       "    .dataframe tbody tr th:only-of-type {\n",
       "        vertical-align: middle;\n",
       "    }\n",
       "\n",
       "    .dataframe tbody tr th {\n",
       "        vertical-align: top;\n",
       "    }\n",
       "\n",
       "    .dataframe thead th {\n",
       "        text-align: right;\n",
       "    }\n",
       "</style>\n",
       "<table border=\"1\" class=\"dataframe\">\n",
       "  <thead>\n",
       "    <tr style=\"text-align: right;\">\n",
       "      <th></th>\n",
       "      <th>immediate_percentage</th>\n",
       "    </tr>\n",
       "  </thead>\n",
       "  <tbody>\n",
       "    <tr>\n",
       "      <th>0</th>\n",
       "      <td>33.33</td>\n",
       "    </tr>\n",
       "  </tbody>\n",
       "</table>\n",
       "</div>"
      ],
      "text/plain": [
       "   immediate_percentage\n",
       "0                 33.33"
      ]
     },
     "execution_count": 118,
     "metadata": {},
     "output_type": "execute_result"
    }
   ],
   "source": [
    "query = '''\n",
    "with immediate_orders as(\n",
    "    select count(*) as immediate_count\n",
    "    from Delivery\n",
    "    where customer_pref_delivery_date = order_date\n",
    "),\n",
    "total_orders as (\n",
    "    select count(*) as total_count\n",
    "    from Delivery\n",
    ")\n",
    "\n",
    "select round((cast(immediate_count as float) / cast(total_count as float) * 100),2) as immediate_percentage\n",
    "from immediate_orders\n",
    "cross join total_orders\n",
    "'''\n",
    "\n",
    " \n",
    "ps.sqldf(query,locals())"
   ]
  },
  {
   "cell_type": "markdown",
   "metadata": {},
   "source": [
    "### Count Salary Categories"
   ]
  },
  {
   "cell_type": "code",
   "execution_count": 174,
   "metadata": {},
   "outputs": [
    {
     "name": "stdout",
     "output_type": "stream",
     "text": [
      "   account_id  income\n",
      "0           3  108939\n",
      "1           2   12747\n",
      "2           8   87709\n",
      "3           6   91796\n"
     ]
    }
   ],
   "source": [
    "data = [[3, 108939], [2, 12747], [8, 87709], [6, 91796]]\n",
    "accounts = pd.DataFrame(data, columns=['account_id', 'income']).astype({'account_id':'Int64', 'income':'Int64'})\n",
    "print(accounts)"
   ]
  },
  {
   "cell_type": "code",
   "execution_count": 178,
   "metadata": {},
   "outputs": [
    {
     "name": "stdout",
     "output_type": "stream",
     "text": [
      "         category  accounts_count\n",
      "0      Low Salary               1\n",
      "1  Average Salary               0\n",
      "2     High Salary               3\n"
     ]
    }
   ],
   "source": [
    "print(pd.DataFrame({\n",
    "    'category' : ['Low Salary', 'Average Salary', 'High Salary'],\n",
    "    'accounts_count' : [\n",
    "        accounts[accounts.income < 20000].shape[0],\n",
    "        accounts[(accounts.income >= 20000)&(accounts.income < 50000)].shape[0],\n",
    "        accounts[accounts.income > 50000].shape[0]\n",
    "    ]\n",
    "}))"
   ]
  },
  {
   "cell_type": "code",
   "execution_count": 190,
   "metadata": {},
   "outputs": [
    {
     "name": "stdout",
     "output_type": "stream",
     "text": [
      "         category  accounts_count\n",
      "0      Low Salary               1\n",
      "1  Average Salary               0\n",
      "2     High Salary               3\n"
     ]
    }
   ],
   "source": [
    "query = '''\n",
    "\n",
    "select category, accounts_count\n",
    "from(select \"Low Salary\" as category, sum(income < 20000) as accounts_count\n",
    "from Accounts\n",
    "\n",
    "union\n",
    "\n",
    "select \"Average Salary\" as category, sum(income between 20000 and 50000) as accounts_count\n",
    "from Accounts\n",
    "\n",
    "union\n",
    "\n",
    "select \"High Salary\" as category, sum(income >= 50000) as accounts_count\n",
    "from Accounts)\n",
    "\n",
    "order by case \n",
    "when category = 'Low Salary' then 1 \n",
    "when category = 'Average Salary' then 2\n",
    "else 3\n",
    "end;\n",
    "'''\n",
    "\n",
    "print(ps.sqldf(query, locals()))"
   ]
  }
 ],
 "metadata": {
  "kernelspec": {
   "display_name": "Python 3",
   "language": "python",
   "name": "python3"
  },
  "language_info": {
   "codemirror_mode": {
    "name": "ipython",
    "version": 3
   },
   "file_extension": ".py",
   "mimetype": "text/x-python",
   "name": "python",
   "nbconvert_exporter": "python",
   "pygments_lexer": "ipython3",
   "version": "3.11.4"
  },
  "orig_nbformat": 4
 },
 "nbformat": 4,
 "nbformat_minor": 2
}
