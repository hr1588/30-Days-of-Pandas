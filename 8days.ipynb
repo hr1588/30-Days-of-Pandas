{
 "cells": [
  {
   "cell_type": "markdown",
   "metadata": {},
   "source": [
    "### Classes More Than 5 Students"
   ]
  },
  {
   "cell_type": "code",
   "execution_count": 4,
   "metadata": {},
   "outputs": [
    {
     "name": "stdout",
     "output_type": "stream",
     "text": [
      "  student     class\n",
      "0       A      Math\n",
      "1       B   English\n",
      "2       C      Math\n",
      "3       D   Biology\n",
      "4       E      Math\n",
      "5       F  Computer\n",
      "6       G      Math\n",
      "7       H      Math\n",
      "8       I      Math\n"
     ]
    }
   ],
   "source": [
    "import pandas as pd\n",
    "import pandasql as ps\n",
    "\n",
    "data = [['A', 'Math'], ['B', 'English'], ['C', 'Math'], ['D', 'Biology'], ['E', 'Math'], ['F', 'Computer'], ['G', 'Math'], ['H', 'Math'], ['I', 'Math']]\n",
    "Courses = pd.DataFrame(data, columns=['student', 'class']).astype({'student':'object', 'class':'object'})\n",
    "print(Courses)"
   ]
  },
  {
   "cell_type": "code",
   "execution_count": 112,
   "metadata": {},
   "outputs": [
    {
     "name": "stdout",
     "output_type": "stream",
     "text": [
      "  class\n",
      "0  Math\n"
     ]
    }
   ],
   "source": [
    "result = Courses.groupby('class').count().reset_index()\n",
    "print(result[result['student']>=5][['class']].reset_index(drop=True))"
   ]
  },
  {
   "cell_type": "code",
   "execution_count": 111,
   "metadata": {},
   "outputs": [
    {
     "name": "stdout",
     "output_type": "stream",
     "text": [
      "  class\n",
      "0  Math\n"
     ]
    }
   ],
   "source": [
    "query = '''\n",
    "select class\n",
    "from Courses\n",
    "group by class\n",
    "having count(*) > 5\n",
    "'''\n",
    "\n",
    "print(ps.sqldf(query,locals()))"
   ]
  },
  {
   "cell_type": "markdown",
   "metadata": {},
   "source": [
    "### Customer Placing the Largest Number of Orders"
   ]
  },
  {
   "cell_type": "code",
   "execution_count": 11,
   "metadata": {},
   "outputs": [
    {
     "name": "stdout",
     "output_type": "stream",
     "text": [
      "   order_number  customer_number\n",
      "0             1                1\n",
      "1             2                2\n",
      "2             3                3\n",
      "3             4                3\n"
     ]
    }
   ],
   "source": [
    "data = [[1, 1], [2, 2], [3, 3], [4, 3]]\n",
    "orders = pd.DataFrame(data, columns=['order_number', 'customer_number']).astype({'order_number':'Int64', 'customer_number':'Int64'})\n",
    "print(orders)"
   ]
  },
  {
   "cell_type": "code",
   "execution_count": 42,
   "metadata": {},
   "outputs": [
    {
     "name": "stdout",
     "output_type": "stream",
     "text": [
      "   customer_number\n",
      "0                3\n"
     ]
    }
   ],
   "source": [
    "print(orders.groupby('customer_number')[['order_number']].count().nlargest(1, 'order_number').reset_index()[['customer_number']])"
   ]
  },
  {
   "cell_type": "code",
   "execution_count": 47,
   "metadata": {},
   "outputs": [
    {
     "name": "stdout",
     "output_type": "stream",
     "text": [
      "   customer_number\n",
      "0                3\n"
     ]
    }
   ],
   "source": [
    "query = '''\n",
    "select customer_number\n",
    "from orders\n",
    "group by customer_number\n",
    "order by count(order_number) desc\n",
    "limit 1\n",
    "'''\n",
    "\n",
    "print(ps.sqldf(query,locals()))"
   ]
  },
  {
   "cell_type": "markdown",
   "metadata": {},
   "source": [
    "### Group Sold Products By The Date"
   ]
  },
  {
   "cell_type": "code",
   "execution_count": 48,
   "metadata": {},
   "outputs": [
    {
     "name": "stdout",
     "output_type": "stream",
     "text": [
      "   sell_date     product\n",
      "0 2020-05-30   Headphone\n",
      "1 2020-06-01      Pencil\n",
      "2 2020-06-02        Mask\n",
      "3 2020-05-30  Basketball\n",
      "4 2020-06-01       Bible\n",
      "5 2020-06-02        Mask\n",
      "6 2020-05-30     T-Shirt\n"
     ]
    }
   ],
   "source": [
    "data = [['2020-05-30', 'Headphone'], ['2020-06-01', 'Pencil'], ['2020-06-02', 'Mask'], ['2020-05-30', 'Basketball'], ['2020-06-01', 'Bible'], ['2020-06-02', 'Mask'], ['2020-05-30', 'T-Shirt']]\n",
    "Activities = pd.DataFrame(data, columns=['sell_date', 'product']).astype({'sell_date':'datetime64[ns]', 'product':'object'})\n",
    "print(Activities)"
   ]
  },
  {
   "cell_type": "code",
   "execution_count": 54,
   "metadata": {},
   "outputs": [
    {
     "data": {
      "text/html": [
       "<div>\n",
       "<style scoped>\n",
       "    .dataframe tbody tr th:only-of-type {\n",
       "        vertical-align: middle;\n",
       "    }\n",
       "\n",
       "    .dataframe tbody tr th {\n",
       "        vertical-align: top;\n",
       "    }\n",
       "\n",
       "    .dataframe thead th {\n",
       "        text-align: right;\n",
       "    }\n",
       "</style>\n",
       "<table border=\"1\" class=\"dataframe\">\n",
       "  <thead>\n",
       "    <tr style=\"text-align: right;\">\n",
       "      <th></th>\n",
       "      <th>sell_date</th>\n",
       "    </tr>\n",
       "    <tr>\n",
       "      <th>product</th>\n",
       "      <th></th>\n",
       "    </tr>\n",
       "  </thead>\n",
       "  <tbody>\n",
       "    <tr>\n",
       "      <th>Basketball</th>\n",
       "      <td>1</td>\n",
       "    </tr>\n",
       "    <tr>\n",
       "      <th>Bible</th>\n",
       "      <td>1</td>\n",
       "    </tr>\n",
       "    <tr>\n",
       "      <th>Headphone</th>\n",
       "      <td>1</td>\n",
       "    </tr>\n",
       "    <tr>\n",
       "      <th>Mask</th>\n",
       "      <td>2</td>\n",
       "    </tr>\n",
       "    <tr>\n",
       "      <th>Pencil</th>\n",
       "      <td>1</td>\n",
       "    </tr>\n",
       "    <tr>\n",
       "      <th>T-Shirt</th>\n",
       "      <td>1</td>\n",
       "    </tr>\n",
       "  </tbody>\n",
       "</table>\n",
       "</div>"
      ],
      "text/plain": [
       "            sell_date\n",
       "product              \n",
       "Basketball          1\n",
       "Bible               1\n",
       "Headphone           1\n",
       "Mask                2\n",
       "Pencil              1\n",
       "T-Shirt             1"
      ]
     },
     "execution_count": 54,
     "metadata": {},
     "output_type": "execute_result"
    }
   ],
   "source": [
    "Activities.groupby('product').count()"
   ]
  },
  {
   "cell_type": "code",
   "execution_count": 74,
   "metadata": {},
   "outputs": [
    {
     "data": {
      "text/html": [
       "<div>\n",
       "<style scoped>\n",
       "    .dataframe tbody tr th:only-of-type {\n",
       "        vertical-align: middle;\n",
       "    }\n",
       "\n",
       "    .dataframe tbody tr th {\n",
       "        vertical-align: top;\n",
       "    }\n",
       "\n",
       "    .dataframe thead th {\n",
       "        text-align: right;\n",
       "    }\n",
       "</style>\n",
       "<table border=\"1\" class=\"dataframe\">\n",
       "  <thead>\n",
       "    <tr style=\"text-align: right;\">\n",
       "      <th></th>\n",
       "      <th>sell_date</th>\n",
       "      <th>num_sold</th>\n",
       "      <th>products</th>\n",
       "    </tr>\n",
       "  </thead>\n",
       "  <tbody>\n",
       "    <tr>\n",
       "      <th>0</th>\n",
       "      <td>2020-05-30</td>\n",
       "      <td>3</td>\n",
       "      <td>Basketball, Headphone, T-Shirt</td>\n",
       "    </tr>\n",
       "    <tr>\n",
       "      <th>1</th>\n",
       "      <td>2020-06-01</td>\n",
       "      <td>2</td>\n",
       "      <td>Bible, Pencil</td>\n",
       "    </tr>\n",
       "    <tr>\n",
       "      <th>2</th>\n",
       "      <td>2020-06-02</td>\n",
       "      <td>1</td>\n",
       "      <td>Mask</td>\n",
       "    </tr>\n",
       "  </tbody>\n",
       "</table>\n",
       "</div>"
      ],
      "text/plain": [
       "   sell_date  num_sold                        products\n",
       "0 2020-05-30         3  Basketball, Headphone, T-Shirt\n",
       "1 2020-06-01         2                   Bible, Pencil\n",
       "2 2020-06-02         1                            Mask"
      ]
     },
     "execution_count": 74,
     "metadata": {},
     "output_type": "execute_result"
    }
   ],
   "source": [
    "Activities.groupby('sell_date')['product'].agg([\n",
    "        ('num_sold', 'nunique'),\n",
    "        ('products', lambda x: ', '.join(sorted(x.unique())))\n",
    "    ]).reset_index()"
   ]
  },
  {
   "cell_type": "code",
   "execution_count": 120,
   "metadata": {},
   "outputs": [
    {
     "name": "stdout",
     "output_type": "stream",
     "text": [
      "    sell_date  num_products                      products\n",
      "0  2020-05-30             3  Basketball,Headphone,T-Shirt\n",
      "1  2020-06-01             2                  Bible,Pencil\n",
      "2  2020-06-02             1                          Mask\n"
     ]
    }
   ],
   "source": [
    "query_my = '''\n",
    "select \n",
    "    date(sell_date) as sell_date, \n",
    "    count(distinct product) as num_sold, \n",
    "    group_concat(distinct product order by product asc separator ',') as products\n",
    "from Activities\n",
    "group by sell_date\n",
    "order by sell_date asc;\n",
    "'''\n",
    "\n",
    "query_sql = '''\n",
    "with OrderedActivities as (\n",
    "    select sell_date, product\n",
    "    from Activities\n",
    "    order by sell_date, product\n",
    ")\n",
    "\n",
    "SELECT \n",
    "    date(sell_date) as sell_date, \n",
    "    count(distinct product) as num_products, \n",
    "    group_concat(distinct product) as products\n",
    "from OrderedActivities\n",
    "group by date(sell_date);\n",
    "\n",
    "'''\n",
    "\n",
    "print(ps.sqldf(query_sql,locals())) "
   ]
  }
 ],
 "metadata": {
  "kernelspec": {
   "display_name": "Python 3",
   "language": "python",
   "name": "python3"
  },
  "language_info": {
   "codemirror_mode": {
    "name": "ipython",
    "version": 3
   },
   "file_extension": ".py",
   "mimetype": "text/x-python",
   "name": "python",
   "nbconvert_exporter": "python",
   "pygments_lexer": "ipython3",
   "version": "3.11.4"
  },
  "orig_nbformat": 4
 },
 "nbformat": 4,
 "nbformat_minor": 2
}
